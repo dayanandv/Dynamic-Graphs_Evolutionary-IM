{
  "nbformat": 4,
  "nbformat_minor": 0,
  "metadata": {
    "colab": {
      "name": "Dynamic_Graphs_Evolutionary_IM.ipynb",
      "provenance": [],
      "collapsed_sections": [],
      "include_colab_link": true
    },
    "kernelspec": {
      "name": "python3",
      "display_name": "Python 3"
    },
    "widgets": {
      "application/vnd.jupyter.widget-state+json": {
        "097b8e880f37431e9197f38832198e4d": {
          "model_module": "@jupyter-widgets/controls",
          "model_name": "HBoxModel",
          "state": {
            "_view_name": "HBoxView",
            "_dom_classes": [],
            "_model_name": "HBoxModel",
            "_view_module": "@jupyter-widgets/controls",
            "_model_module_version": "1.5.0",
            "_view_count": null,
            "_view_module_version": "1.5.0",
            "box_style": "",
            "layout": "IPY_MODEL_6a43a1de925d46d9bfe051b2285bbb7e",
            "_model_module": "@jupyter-widgets/controls",
            "children": [
              "IPY_MODEL_c61022e21b5647f7bd1a0620de48f237",
              "IPY_MODEL_8e6a051ac3ab4dfd9bb10b7f8f23f6f6"
            ]
          }
        },
        "6a43a1de925d46d9bfe051b2285bbb7e": {
          "model_module": "@jupyter-widgets/base",
          "model_name": "LayoutModel",
          "state": {
            "_view_name": "LayoutView",
            "grid_template_rows": null,
            "right": null,
            "justify_content": null,
            "_view_module": "@jupyter-widgets/base",
            "overflow": null,
            "_model_module_version": "1.2.0",
            "_view_count": null,
            "flex_flow": null,
            "width": null,
            "min_width": null,
            "border": null,
            "align_items": null,
            "bottom": null,
            "_model_module": "@jupyter-widgets/base",
            "top": null,
            "grid_column": null,
            "overflow_y": null,
            "overflow_x": null,
            "grid_auto_flow": null,
            "grid_area": null,
            "grid_template_columns": null,
            "flex": null,
            "_model_name": "LayoutModel",
            "justify_items": null,
            "grid_row": null,
            "max_height": null,
            "align_content": null,
            "visibility": null,
            "align_self": null,
            "height": null,
            "min_height": null,
            "padding": null,
            "grid_auto_rows": null,
            "grid_gap": null,
            "max_width": null,
            "order": null,
            "_view_module_version": "1.2.0",
            "grid_template_areas": null,
            "object_position": null,
            "object_fit": null,
            "grid_auto_columns": null,
            "margin": null,
            "display": null,
            "left": null
          }
        },
        "c61022e21b5647f7bd1a0620de48f237": {
          "model_module": "@jupyter-widgets/controls",
          "model_name": "FloatProgressModel",
          "state": {
            "_view_name": "ProgressView",
            "style": "IPY_MODEL_c90644a261994f009f095444edd4359b",
            "_dom_classes": [],
            "description": "Graphs:   0%",
            "_model_name": "FloatProgressModel",
            "bar_style": "danger",
            "max": 40,
            "_view_module": "@jupyter-widgets/controls",
            "_model_module_version": "1.5.0",
            "value": 0,
            "_view_count": null,
            "_view_module_version": "1.5.0",
            "orientation": "horizontal",
            "min": 0,
            "description_tooltip": null,
            "_model_module": "@jupyter-widgets/controls",
            "layout": "IPY_MODEL_992d1a57795144d6b1f5a726a97f49ed"
          }
        },
        "8e6a051ac3ab4dfd9bb10b7f8f23f6f6": {
          "model_module": "@jupyter-widgets/controls",
          "model_name": "HTMLModel",
          "state": {
            "_view_name": "HTMLView",
            "style": "IPY_MODEL_aedb11f188c04bed8f9ec3067f62bcda",
            "_dom_classes": [],
            "description": "",
            "_model_name": "HTMLModel",
            "placeholder": "​",
            "_view_module": "@jupyter-widgets/controls",
            "_model_module_version": "1.5.0",
            "value": " 0/40 [00:39&lt;?, ?it/s]",
            "_view_count": null,
            "_view_module_version": "1.5.0",
            "description_tooltip": null,
            "_model_module": "@jupyter-widgets/controls",
            "layout": "IPY_MODEL_aa731aa9cec8448984bd61d1845e72fa"
          }
        },
        "c90644a261994f009f095444edd4359b": {
          "model_module": "@jupyter-widgets/controls",
          "model_name": "ProgressStyleModel",
          "state": {
            "_view_name": "StyleView",
            "_model_name": "ProgressStyleModel",
            "description_width": "initial",
            "_view_module": "@jupyter-widgets/base",
            "_model_module_version": "1.5.0",
            "_view_count": null,
            "_view_module_version": "1.2.0",
            "bar_color": null,
            "_model_module": "@jupyter-widgets/controls"
          }
        },
        "992d1a57795144d6b1f5a726a97f49ed": {
          "model_module": "@jupyter-widgets/base",
          "model_name": "LayoutModel",
          "state": {
            "_view_name": "LayoutView",
            "grid_template_rows": null,
            "right": null,
            "justify_content": null,
            "_view_module": "@jupyter-widgets/base",
            "overflow": null,
            "_model_module_version": "1.2.0",
            "_view_count": null,
            "flex_flow": null,
            "width": null,
            "min_width": null,
            "border": null,
            "align_items": null,
            "bottom": null,
            "_model_module": "@jupyter-widgets/base",
            "top": null,
            "grid_column": null,
            "overflow_y": null,
            "overflow_x": null,
            "grid_auto_flow": null,
            "grid_area": null,
            "grid_template_columns": null,
            "flex": null,
            "_model_name": "LayoutModel",
            "justify_items": null,
            "grid_row": null,
            "max_height": null,
            "align_content": null,
            "visibility": null,
            "align_self": null,
            "height": null,
            "min_height": null,
            "padding": null,
            "grid_auto_rows": null,
            "grid_gap": null,
            "max_width": null,
            "order": null,
            "_view_module_version": "1.2.0",
            "grid_template_areas": null,
            "object_position": null,
            "object_fit": null,
            "grid_auto_columns": null,
            "margin": null,
            "display": null,
            "left": null
          }
        },
        "aedb11f188c04bed8f9ec3067f62bcda": {
          "model_module": "@jupyter-widgets/controls",
          "model_name": "DescriptionStyleModel",
          "state": {
            "_view_name": "StyleView",
            "_model_name": "DescriptionStyleModel",
            "description_width": "",
            "_view_module": "@jupyter-widgets/base",
            "_model_module_version": "1.5.0",
            "_view_count": null,
            "_view_module_version": "1.2.0",
            "_model_module": "@jupyter-widgets/controls"
          }
        },
        "aa731aa9cec8448984bd61d1845e72fa": {
          "model_module": "@jupyter-widgets/base",
          "model_name": "LayoutModel",
          "state": {
            "_view_name": "LayoutView",
            "grid_template_rows": null,
            "right": null,
            "justify_content": null,
            "_view_module": "@jupyter-widgets/base",
            "overflow": null,
            "_model_module_version": "1.2.0",
            "_view_count": null,
            "flex_flow": null,
            "width": null,
            "min_width": null,
            "border": null,
            "align_items": null,
            "bottom": null,
            "_model_module": "@jupyter-widgets/base",
            "top": null,
            "grid_column": null,
            "overflow_y": null,
            "overflow_x": null,
            "grid_auto_flow": null,
            "grid_area": null,
            "grid_template_columns": null,
            "flex": null,
            "_model_name": "LayoutModel",
            "justify_items": null,
            "grid_row": null,
            "max_height": null,
            "align_content": null,
            "visibility": null,
            "align_self": null,
            "height": null,
            "min_height": null,
            "padding": null,
            "grid_auto_rows": null,
            "grid_gap": null,
            "max_width": null,
            "order": null,
            "_view_module_version": "1.2.0",
            "grid_template_areas": null,
            "object_position": null,
            "object_fit": null,
            "grid_auto_columns": null,
            "margin": null,
            "display": null,
            "left": null
          }
        },
        "b3348380909645798aa6f7b34a6736a9": {
          "model_module": "@jupyter-widgets/controls",
          "model_name": "HBoxModel",
          "state": {
            "_view_name": "HBoxView",
            "_dom_classes": [],
            "_model_name": "HBoxModel",
            "_view_module": "@jupyter-widgets/controls",
            "_model_module_version": "1.5.0",
            "_view_count": null,
            "_view_module_version": "1.5.0",
            "box_style": "",
            "layout": "IPY_MODEL_16ca9e2a1ceb4290af10662957657d96",
            "_model_module": "@jupyter-widgets/controls",
            "children": [
              "IPY_MODEL_b0ab51c9d5e841ed9b6a25e64efa652f",
              "IPY_MODEL_e0a2168eefb94daa8190fedc2dbe8eee"
            ]
          }
        },
        "16ca9e2a1ceb4290af10662957657d96": {
          "model_module": "@jupyter-widgets/base",
          "model_name": "LayoutModel",
          "state": {
            "_view_name": "LayoutView",
            "grid_template_rows": null,
            "right": null,
            "justify_content": null,
            "_view_module": "@jupyter-widgets/base",
            "overflow": null,
            "_model_module_version": "1.2.0",
            "_view_count": null,
            "flex_flow": null,
            "width": null,
            "min_width": null,
            "border": null,
            "align_items": null,
            "bottom": null,
            "_model_module": "@jupyter-widgets/base",
            "top": null,
            "grid_column": null,
            "overflow_y": null,
            "overflow_x": null,
            "grid_auto_flow": null,
            "grid_area": null,
            "grid_template_columns": null,
            "flex": null,
            "_model_name": "LayoutModel",
            "justify_items": null,
            "grid_row": null,
            "max_height": null,
            "align_content": null,
            "visibility": null,
            "align_self": null,
            "height": null,
            "min_height": null,
            "padding": null,
            "grid_auto_rows": null,
            "grid_gap": null,
            "max_width": null,
            "order": null,
            "_view_module_version": "1.2.0",
            "grid_template_areas": null,
            "object_position": null,
            "object_fit": null,
            "grid_auto_columns": null,
            "margin": null,
            "display": null,
            "left": null
          }
        },
        "b0ab51c9d5e841ed9b6a25e64efa652f": {
          "model_module": "@jupyter-widgets/controls",
          "model_name": "FloatProgressModel",
          "state": {
            "_view_name": "ProgressView",
            "style": "IPY_MODEL_b60274428ee5434d888c1a80404287a2",
            "_dom_classes": [],
            "description": "Simulations:  35%",
            "_model_name": "FloatProgressModel",
            "bar_style": "danger",
            "max": 1000,
            "_view_module": "@jupyter-widgets/controls",
            "_model_module_version": "1.5.0",
            "value": 353,
            "_view_count": null,
            "_view_module_version": "1.5.0",
            "orientation": "horizontal",
            "min": 0,
            "description_tooltip": null,
            "_model_module": "@jupyter-widgets/controls",
            "layout": "IPY_MODEL_667d60766b7941f29ba4476ae997cf50"
          }
        },
        "e0a2168eefb94daa8190fedc2dbe8eee": {
          "model_module": "@jupyter-widgets/controls",
          "model_name": "HTMLModel",
          "state": {
            "_view_name": "HTMLView",
            "style": "IPY_MODEL_d80e0f17f6dd4c90b36f634bb0325efe",
            "_dom_classes": [],
            "description": "",
            "_model_name": "HTMLModel",
            "placeholder": "​",
            "_view_module": "@jupyter-widgets/controls",
            "_model_module_version": "1.5.0",
            "value": " 353/1000 [00:39&lt;06:28,  1.67it/s]",
            "_view_count": null,
            "_view_module_version": "1.5.0",
            "description_tooltip": null,
            "_model_module": "@jupyter-widgets/controls",
            "layout": "IPY_MODEL_45efe2ab137d448b853d4f790c4e67f4"
          }
        },
        "b60274428ee5434d888c1a80404287a2": {
          "model_module": "@jupyter-widgets/controls",
          "model_name": "ProgressStyleModel",
          "state": {
            "_view_name": "StyleView",
            "_model_name": "ProgressStyleModel",
            "description_width": "initial",
            "_view_module": "@jupyter-widgets/base",
            "_model_module_version": "1.5.0",
            "_view_count": null,
            "_view_module_version": "1.2.0",
            "bar_color": null,
            "_model_module": "@jupyter-widgets/controls"
          }
        },
        "667d60766b7941f29ba4476ae997cf50": {
          "model_module": "@jupyter-widgets/base",
          "model_name": "LayoutModel",
          "state": {
            "_view_name": "LayoutView",
            "grid_template_rows": null,
            "right": null,
            "justify_content": null,
            "_view_module": "@jupyter-widgets/base",
            "overflow": null,
            "_model_module_version": "1.2.0",
            "_view_count": null,
            "flex_flow": null,
            "width": null,
            "min_width": null,
            "border": null,
            "align_items": null,
            "bottom": null,
            "_model_module": "@jupyter-widgets/base",
            "top": null,
            "grid_column": null,
            "overflow_y": null,
            "overflow_x": null,
            "grid_auto_flow": null,
            "grid_area": null,
            "grid_template_columns": null,
            "flex": null,
            "_model_name": "LayoutModel",
            "justify_items": null,
            "grid_row": null,
            "max_height": null,
            "align_content": null,
            "visibility": null,
            "align_self": null,
            "height": null,
            "min_height": null,
            "padding": null,
            "grid_auto_rows": null,
            "grid_gap": null,
            "max_width": null,
            "order": null,
            "_view_module_version": "1.2.0",
            "grid_template_areas": null,
            "object_position": null,
            "object_fit": null,
            "grid_auto_columns": null,
            "margin": null,
            "display": null,
            "left": null
          }
        },
        "d80e0f17f6dd4c90b36f634bb0325efe": {
          "model_module": "@jupyter-widgets/controls",
          "model_name": "DescriptionStyleModel",
          "state": {
            "_view_name": "StyleView",
            "_model_name": "DescriptionStyleModel",
            "description_width": "",
            "_view_module": "@jupyter-widgets/base",
            "_model_module_version": "1.5.0",
            "_view_count": null,
            "_view_module_version": "1.2.0",
            "_model_module": "@jupyter-widgets/controls"
          }
        },
        "45efe2ab137d448b853d4f790c4e67f4": {
          "model_module": "@jupyter-widgets/base",
          "model_name": "LayoutModel",
          "state": {
            "_view_name": "LayoutView",
            "grid_template_rows": null,
            "right": null,
            "justify_content": null,
            "_view_module": "@jupyter-widgets/base",
            "overflow": null,
            "_model_module_version": "1.2.0",
            "_view_count": null,
            "flex_flow": null,
            "width": null,
            "min_width": null,
            "border": null,
            "align_items": null,
            "bottom": null,
            "_model_module": "@jupyter-widgets/base",
            "top": null,
            "grid_column": null,
            "overflow_y": null,
            "overflow_x": null,
            "grid_auto_flow": null,
            "grid_area": null,
            "grid_template_columns": null,
            "flex": null,
            "_model_name": "LayoutModel",
            "justify_items": null,
            "grid_row": null,
            "max_height": null,
            "align_content": null,
            "visibility": null,
            "align_self": null,
            "height": null,
            "min_height": null,
            "padding": null,
            "grid_auto_rows": null,
            "grid_gap": null,
            "max_width": null,
            "order": null,
            "_view_module_version": "1.2.0",
            "grid_template_areas": null,
            "object_position": null,
            "object_fit": null,
            "grid_auto_columns": null,
            "margin": null,
            "display": null,
            "left": null
          }
        }
      }
    }
  },
  "cells": [
    {
      "cell_type": "markdown",
      "metadata": {
        "id": "view-in-github",
        "colab_type": "text"
      },
      "source": [
        "<a href=\"https://colab.research.google.com/github/dayanandv/Dynamic-Graphs_Evolutionary-IM/blob/master/Dynamic_Graphs_Evolutionary_IM.ipynb\" target=\"_parent\"><img src=\"https://colab.research.google.com/assets/colab-badge.svg\" alt=\"Open In Colab\"/></a>"
      ]
    },
    {
      "cell_type": "markdown",
      "metadata": {
        "id": "Hy0_q8ayb0qm",
        "colab_type": "text"
      },
      "source": [
        "#Author: Dayanand V (CB.EN.D*CSE17003-PT)\n",
        "\n",
        "This is an attempt to model *Evolutionary IM experiment on dynamically evolving random graphs*\n",
        "\n",
        "Reference: The paper 'Modeling multi-source information diffusion: A graphical evolutionary game approach' by Hong Hu, Yuejiang Li, H.V Zhao and Yan Chen at 2019 Asia-Pacific Signal and Information Processing Association Annual Summit and Conference, APSIPA ASC 2019."
      ]
    },
    {
      "cell_type": "code",
      "metadata": {
        "colab_type": "code",
        "id": "SbRqBWYIKbs6",
        "colab": {
          "base_uri": "https://localhost:8080/",
          "height": 75
        },
        "outputId": "0802b4ee-0109-4f2d-ecb9-f8288413ebbd"
      },
      "source": [
        "import networkx as nx\n",
        "import random\n",
        "import time\n",
        "import pandas as pd\n",
        "import matplotlib.pyplot as plt\n",
        "import seaborn as sns\n",
        "from tqdm.notebook import trange, tqdm, tqdm_notebook\n",
        "from itertools import cycle\n",
        "import numpy as np"
      ],
      "execution_count": 5,
      "outputs": [
        {
          "output_type": "stream",
          "text": [
            "/usr/local/lib/python3.6/dist-packages/statsmodels/tools/_testing.py:19: FutureWarning: pandas.util.testing is deprecated. Use the functions in the public API at pandas.testing instead.\n",
            "  import pandas.util.testing as tm\n"
          ],
          "name": "stderr"
        }
      ]
    },
    {
      "cell_type": "code",
      "metadata": {
        "id": "qpavQF8t6ZpT",
        "colab_type": "code",
        "colab": {}
      },
      "source": [
        "N = 2000    #Number of users\n",
        "k = 20      #Average degree\n",
        "p = k/N     #Probability that a node connects with any of it's arbitrary neighbour, might be same as the alpha (selection parametr) mentioned in the paper\n",
        "G_N = 40  #Number of times the graph has to be regenerated\n",
        "S_M = 100  #Number of times simulations have to be conducted on one graph\n",
        "payoff_matrix = [[0.4, 0.48, 0.48, 0.64], [0.48, 0.24, 0.64, 0.32], [0.48, 0.64, 0.24, 0.32], [0.64, 0.32, 0.32, 0.2]] #Initialized based on Equation (26)\n",
        "strategy_percentages = [0.1, 0.2, 0.3, 0.4] #Taking advantage of the index here, there are four strategies, viz 0, 1, 2, and 3\n",
        "final_results = [strategy_percentages]\n",
        "simulations_results_collection = {}\n",
        "no_of_iterations = 0\n",
        "change_percentage_nodes = 0.01 #Percentage of node changes expected in a graph per iteration (Dynamicity)\n",
        "change_percentage_edges = 0.001 #Percentage of changes expected in a graph per iteration (Dynamicity)"
      ],
      "execution_count": 94,
      "outputs": []
    },
    {
      "cell_type": "code",
      "metadata": {
        "id": "44z63nMs6o0b",
        "colab_type": "code",
        "colab": {}
      },
      "source": [
        "def plot_strategy_evolution(results_df, number_of_graphs, number_of_simulations):\n",
        "    plt.figure(figsize=(24, 6))\n",
        "    sns.set_context(\"notebook\", font_scale=1.5, rc={\"lines.linewidth\": 2.5})\n",
        "    sns.set_style(\"whitegrid\", {\"axes.facecolor\": \".9\"})\n",
        "    plt.xlabel(\"Iterations\")\n",
        "    plt.ylabel(\"Strategy percentage value\")\n",
        "    plt.title(\"Strategy vs Iterations (\" + str(number_of_graphs) + \" Graphs with \" + str(number_of_simulations) +\" simulations each)\")\n",
        "    sns.lineplot(data=results_df, dashes=False)"
      ],
      "execution_count": 95,
      "outputs": []
    },
    {
      "cell_type": "code",
      "metadata": {
        "id": "4VQ8jAgD6hRb",
        "colab_type": "code",
        "colab": {}
      },
      "source": [
        "def update_strategy_percentage(G):\n",
        "    strategy_counts = [0, 0, 0, 0]\n",
        "    for user in list(G.nodes()):\n",
        "        strategy_counts[int(G.nodes[user]['strategy'])] += 1\n",
        "    return [count / G.number_of_nodes() for count in strategy_counts]"
      ],
      "execution_count": 96,
      "outputs": []
    },
    {
      "cell_type": "code",
      "metadata": {
        "id": "FPGsWgfOR2rK",
        "colab_type": "code",
        "colab": {}
      },
      "source": [
        "#Initializes the user strategy according to the strategy_percentages fractions for 'number_of_nodes' users with id starting from start_id\n",
        "def initialize_strategies(start_id, number_of_nodes):\n",
        "    strategies = np.random.choice(4, number_of_nodes, p=strategy_percentages)\n",
        "    for iter in range(number_of_nodes): #For each user, do\n",
        "        G.nodes[start_id+iter]['strategy'] = strategies[iter] # 1.1 Initialize users' strategy\n",
        "        G.nodes[start_id+iter]['fitness'] = payoff_matrix[strategies[iter]][strategies[iter]] # 1.2 Calculate each user's fitness value"
      ],
      "execution_count": 97,
      "outputs": []
    },
    {
      "cell_type": "code",
      "metadata": {
        "id": "x4K0Bgey6i-E",
        "colab_type": "code",
        "colab": {
          "base_uri": "https://localhost:8080/",
          "height": 468,
          "referenced_widgets": [
            "097b8e880f37431e9197f38832198e4d",
            "6a43a1de925d46d9bfe051b2285bbb7e",
            "c61022e21b5647f7bd1a0620de48f237",
            "8e6a051ac3ab4dfd9bb10b7f8f23f6f6",
            "c90644a261994f009f095444edd4359b",
            "992d1a57795144d6b1f5a726a97f49ed",
            "aedb11f188c04bed8f9ec3067f62bcda",
            "aa731aa9cec8448984bd61d1845e72fa",
            "b3348380909645798aa6f7b34a6736a9",
            "16ca9e2a1ceb4290af10662957657d96",
            "b0ab51c9d5e841ed9b6a25e64efa652f",
            "e0a2168eefb94daa8190fedc2dbe8eee",
            "b60274428ee5434d888c1a80404287a2",
            "667d60766b7941f29ba4476ae997cf50",
            "d80e0f17f6dd4c90b36f634bb0325efe",
            "45efe2ab137d448b853d4f790c4e67f4"
          ]
        },
        "outputId": "44fd333c-7a74-4270-ffe9-080b3000fd22"
      },
      "source": [
        "for i in tqdm_notebook(range(G_N),desc='Graphs'): #Regerate graphs G_N times\n",
        "    #print(\"Graph #\", i, \"is created. Strategy percentages are:\",strategy_percentages)\n",
        "    G = nx.erdos_renyi_graph(N, p, seed = 100) #Generating random graph\n",
        "    intermediate_results = [strategy_percentages] #List to store strategy percentages of each simulation on this graph, initialize it with the default values\n",
        "    current_strategy_percentages = strategy_percentages\n",
        "    initialize_strategies(0, N) #Initialize the user strategy according to the strategy_percentages fractions for the entire graph\n",
        "\n",
        "    for j in tqdm_notebook(range(S_M), desc='Simulations', leave=False):  #Simulation running S_M times\n",
        "        \n",
        "        no_of_iterations += 1\n",
        "\n",
        "        #------------------------------------Graph evolves here--------------------------------------------------\n",
        "        #----------Introducing new nodes into the graph and connecting them----------\n",
        "        node_count = G.number_of_nodes()\n",
        "        for k in range(int(node_count*change_percentage_nodes)):\n",
        "            node_id = node_count+k\n",
        "            G.add_node(node_id) #Add a new node with id continuing from last added id\n",
        "            G.add_edges_from(zip(cycle([node_id]), random.sample(G.nodes(),int(p*N)))) #Create edges from the newly added node to other nodes in the graph with probability 'p' \n",
        "        initialize_strategies(start_id=node_count, number_of_nodes=k+1) #Initialize the strategies for the newly added nodes\n",
        "        node_count = G.number_of_nodes()\n",
        "        #----------------------------------------------------------------------------\n",
        "\n",
        "        #---------------Removing nodes from the current graph------------------------\n",
        "        #----------------------------------------------------------------------------\n",
        "\n",
        "        #------------------Adding edges to the current graph-------------------------\n",
        "        #----------------------------------------------------------------------------\n",
        "\n",
        "        #---------------Removing edges from the current graph------------------------\n",
        "        #----------------------------------------------------------------------------\n",
        "\n",
        "        #--------------------------------------------------------------------------------------------------------\n",
        "\n",
        "        user = random.choice(list(G.nodes())) # 2. Choose a focal user randomly\n",
        "        if (len([n for n in G.neighbors(user)])!=0): #If the user has neighbors\n",
        "            neighbor = random.choice(list(G.neighbors(user))) # 3. Choose a neighbor to replicate the strategy\n",
        "        else:\n",
        "            continue\n",
        "\n",
        "        if (G.nodes[user]['strategy'] == G.nodes[neighbor]['strategy']): # 4. If neighbor's strategy is same as focal user's\n",
        "            #strategy[s]['percentage'] = '''calculated value''' #Unclear what this means if it's the same value\n",
        "            pass\n",
        "        else:\n",
        "            G.nodes[user]['strategy'] = G.nodes[neighbor]['strategy'] # 4.1 Update the strategy of focal user to that of neighbor's (This should be based on the probability function's output; refer equation #7 and equation #10 in the paper)\n",
        "            G.nodes[user]['fitness'] = payoff_matrix[G.nodes[user]['strategy']][G.nodes[neighbor]['strategy']] # 4.2 Re-calculate fitness \n",
        "        current_strategy_percentages = update_strategy_percentage(G) # 5 Record each strategy's percentage\n",
        "        #strategy_percentages = update_strategy_percentage(G) # 5 Record each strategy's percentage\n",
        "        intermediate_results.append(current_strategy_percentages)\n",
        "        #intermediate_results.append(strategy_percentages)\n",
        "\n",
        "        #-------------------------------------------------------------------------------------------------------------------\n",
        "        strategy_percentages = current_strategy_percentages #Strategy percentages are carried forward even for future graphs\n",
        "        #Comment the above line to start each graph with strategies reset to the original strategy_percentages values\n",
        "        #--------------------------------------------------------------------------------------------------------------------\n",
        "\n",
        "        #print(\"After simulation #\",j+1, \", strategy values are:\", current_strategy_percentages) # 6. Record/Output the simulation experiment's results\n",
        "    intermediate_results_df = pd.DataFrame(intermediate_results)\n",
        "    simulations_results_collection[i] = intermediate_results_df\n",
        "    final_results.append(intermediate_results_df.mean(axis = 0)) # Append each strategy's average percentage values in this simulation to the final result collection\n",
        "final_results_df = pd.DataFrame(final_results)\n",
        "final_results_df.columns=['s0','s1','s2','s3']\n",
        "#final_results_df.to_csv(\"results_\" + time.strftime(\"%H%M%S_%d%m%Y\") + \".csv\", index=True, index_label='iteration') # 8. Record/Output the final average results"
      ],
      "execution_count": 98,
      "outputs": [
        {
          "output_type": "display_data",
          "data": {
            "application/vnd.jupyter.widget-view+json": {
              "model_id": "097b8e880f37431e9197f38832198e4d",
              "version_minor": 0,
              "version_major": 2
            },
            "text/plain": [
              "HBox(children=(FloatProgress(value=0.0, description='Graphs', max=40.0, style=ProgressStyle(description_width=…"
            ]
          },
          "metadata": {
            "tags": []
          }
        },
        {
          "output_type": "display_data",
          "data": {
            "application/vnd.jupyter.widget-view+json": {
              "model_id": "b3348380909645798aa6f7b34a6736a9",
              "version_minor": 0,
              "version_major": 2
            },
            "text/plain": [
              "HBox(children=(FloatProgress(value=0.0, description='Simulations', max=1000.0, style=ProgressStyle(description…"
            ]
          },
          "metadata": {
            "tags": []
          }
        },
        {
          "output_type": "error",
          "ename": "KeyboardInterrupt",
          "evalue": "ignored",
          "traceback": [
            "\u001b[0;31m---------------------------------------------------------------------------\u001b[0m",
            "\u001b[0;31mKeyboardInterrupt\u001b[0m                         Traceback (most recent call last)",
            "\u001b[0;32m<ipython-input-98-817ae56b250a>\u001b[0m in \u001b[0;36m<module>\u001b[0;34m()\u001b[0m\n\u001b[1;32m     16\u001b[0m             \u001b[0mnode_id\u001b[0m \u001b[0;34m=\u001b[0m \u001b[0mnode_count\u001b[0m\u001b[0;34m+\u001b[0m\u001b[0mk\u001b[0m\u001b[0;34m\u001b[0m\u001b[0;34m\u001b[0m\u001b[0m\n\u001b[1;32m     17\u001b[0m             \u001b[0mG\u001b[0m\u001b[0;34m.\u001b[0m\u001b[0madd_node\u001b[0m\u001b[0;34m(\u001b[0m\u001b[0mnode_id\u001b[0m\u001b[0;34m)\u001b[0m \u001b[0;31m#Add a new node with id continuing from last added id\u001b[0m\u001b[0;34m\u001b[0m\u001b[0;34m\u001b[0m\u001b[0m\n\u001b[0;32m---> 18\u001b[0;31m             \u001b[0mG\u001b[0m\u001b[0;34m.\u001b[0m\u001b[0madd_edges_from\u001b[0m\u001b[0;34m(\u001b[0m\u001b[0mzip\u001b[0m\u001b[0;34m(\u001b[0m\u001b[0mcycle\u001b[0m\u001b[0;34m(\u001b[0m\u001b[0;34m[\u001b[0m\u001b[0mnode_id\u001b[0m\u001b[0;34m]\u001b[0m\u001b[0;34m)\u001b[0m\u001b[0;34m,\u001b[0m \u001b[0mrandom\u001b[0m\u001b[0;34m.\u001b[0m\u001b[0msample\u001b[0m\u001b[0;34m(\u001b[0m\u001b[0mG\u001b[0m\u001b[0;34m.\u001b[0m\u001b[0mnodes\u001b[0m\u001b[0;34m(\u001b[0m\u001b[0;34m)\u001b[0m\u001b[0;34m,\u001b[0m\u001b[0mint\u001b[0m\u001b[0;34m(\u001b[0m\u001b[0mp\u001b[0m\u001b[0;34m*\u001b[0m\u001b[0mN\u001b[0m\u001b[0;34m)\u001b[0m\u001b[0;34m)\u001b[0m\u001b[0;34m)\u001b[0m\u001b[0;34m)\u001b[0m \u001b[0;31m#Create edges from the newly added node to other nodes in the graph with probability 'p'\u001b[0m\u001b[0;34m\u001b[0m\u001b[0;34m\u001b[0m\u001b[0m\n\u001b[0m\u001b[1;32m     19\u001b[0m         \u001b[0minitialize_strategies\u001b[0m\u001b[0;34m(\u001b[0m\u001b[0mstart_id\u001b[0m\u001b[0;34m=\u001b[0m\u001b[0mnode_count\u001b[0m\u001b[0;34m,\u001b[0m \u001b[0mnumber_of_nodes\u001b[0m\u001b[0;34m=\u001b[0m\u001b[0mk\u001b[0m\u001b[0;34m+\u001b[0m\u001b[0;36m1\u001b[0m\u001b[0;34m)\u001b[0m \u001b[0;31m#Initialize the strategies for the newly added nodes\u001b[0m\u001b[0;34m\u001b[0m\u001b[0;34m\u001b[0m\u001b[0m\n\u001b[1;32m     20\u001b[0m         \u001b[0mnode_count\u001b[0m \u001b[0;34m=\u001b[0m \u001b[0mG\u001b[0m\u001b[0;34m.\u001b[0m\u001b[0mnumber_of_nodes\u001b[0m\u001b[0;34m(\u001b[0m\u001b[0;34m)\u001b[0m\u001b[0;34m\u001b[0m\u001b[0;34m\u001b[0m\u001b[0m\n",
            "\u001b[0;32m/usr/lib/python3.6/random.py\u001b[0m in \u001b[0;36msample\u001b[0;34m(self, population, k)\u001b[0m\n\u001b[1;32m    312\u001b[0m \u001b[0;34m\u001b[0m\u001b[0m\n\u001b[1;32m    313\u001b[0m         \u001b[0;32mif\u001b[0m \u001b[0misinstance\u001b[0m\u001b[0;34m(\u001b[0m\u001b[0mpopulation\u001b[0m\u001b[0;34m,\u001b[0m \u001b[0m_Set\u001b[0m\u001b[0;34m)\u001b[0m\u001b[0;34m:\u001b[0m\u001b[0;34m\u001b[0m\u001b[0;34m\u001b[0m\u001b[0m\n\u001b[0;32m--> 314\u001b[0;31m             \u001b[0mpopulation\u001b[0m \u001b[0;34m=\u001b[0m \u001b[0mtuple\u001b[0m\u001b[0;34m(\u001b[0m\u001b[0mpopulation\u001b[0m\u001b[0;34m)\u001b[0m\u001b[0;34m\u001b[0m\u001b[0;34m\u001b[0m\u001b[0m\n\u001b[0m\u001b[1;32m    315\u001b[0m         \u001b[0;32mif\u001b[0m \u001b[0;32mnot\u001b[0m \u001b[0misinstance\u001b[0m\u001b[0;34m(\u001b[0m\u001b[0mpopulation\u001b[0m\u001b[0;34m,\u001b[0m \u001b[0m_Sequence\u001b[0m\u001b[0;34m)\u001b[0m\u001b[0;34m:\u001b[0m\u001b[0;34m\u001b[0m\u001b[0;34m\u001b[0m\u001b[0m\n\u001b[1;32m    316\u001b[0m             \u001b[0;32mraise\u001b[0m \u001b[0mTypeError\u001b[0m\u001b[0;34m(\u001b[0m\u001b[0;34m\"Population must be a sequence or set.  For dicts, use list(d).\"\u001b[0m\u001b[0;34m)\u001b[0m\u001b[0;34m\u001b[0m\u001b[0;34m\u001b[0m\u001b[0m\n",
            "\u001b[0;31mKeyboardInterrupt\u001b[0m: "
          ]
        }
      ]
    },
    {
      "cell_type": "code",
      "metadata": {
        "id": "WeSxD1m3uqBo",
        "colab_type": "code",
        "colab": {}
      },
      "source": [
        "plot_strategy_evolution(final_results_df, number_of_graphs=40, number_of_simulations=100)"
      ],
      "execution_count": null,
      "outputs": []
    }
  ]
}